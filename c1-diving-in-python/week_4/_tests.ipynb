{
 "cells": [
  {
   "cell_type": "markdown",
   "metadata": {},
   "source": [
    "# Unit Tests"
   ]
  },
  {
   "cell_type": "code",
   "execution_count": 6,
   "metadata": {},
   "outputs": [],
   "source": [
    "def division(a, b):\n",
    "    return a // b"
   ]
  },
  {
   "cell_type": "code",
   "execution_count": 8,
   "metadata": {},
   "outputs": [
    {
     "data": {
      "text/plain": [
       "<__main__.TestPython testMethod=runTest>"
      ]
     },
     "execution_count": 8,
     "metadata": {},
     "output_type": "execute_result"
    }
   ],
   "source": [
    "import unittest\n",
    "\n",
    "class TestPython(unittest.TestCase):\n",
    "    def test_float_division(self):\n",
    "        self.assertEqual(1, int(1.0))\n",
    "        \n",
    "    def test_division(self):\n",
    "        self.assertEqual(2.0, division(10, 5))\n",
    "        \n",
    "    def test_trueness(self):\n",
    "        self.assertTrue(division(10, 5) == 2)\n",
    "        "
   ]
  },
  {
   "cell_type": "markdown",
   "metadata": {},
   "source": [
    "Для запуска тестов в консоли из файла `tests.py`:\n",
    "\n",
    "python -m unittest tests.py"
   ]
  },
  {
   "cell_type": "markdown",
   "metadata": {},
   "source": [
    "## Example"
   ]
  },
  {
   "cell_type": "code",
   "execution_count": 16,
   "metadata": {},
   "outputs": [],
   "source": [
    "import requests\n",
    "\n",
    "\n",
    "class Asteroid:\n",
    "    BASE_API_URL = 'https://api.nasa.gov/neo/rest/v1/neo/{}?api_key=DEMO_KEY'\n",
    "\n",
    "    def __init__(self, spk_id):\n",
    "        self.api_url = self.BASE_API_URL.format(spk_id)\n",
    "\n",
    "    def get_data(self):\n",
    "        return requests.get(self.api_url).json()\n",
    "\n",
    "    @property\n",
    "    def name(self):\n",
    "        return self.get_data()['name']\n",
    "\n",
    "    @property\n",
    "    def diameter(self):\n",
    "        return int(self.get_data()['estimated_diameter']['meters']['estimated_diameter_max'])\n",
    "    \n",
    "    @property\n",
    "    def closest_approach(self):\n",
    "        closest = {\n",
    "            'date': None,\n",
    "            'distance': float('inf')\n",
    "        }\n",
    "        for approach in self.get_data()['close_approach_data']:\n",
    "            distance = float(approach['miss_distance']['lunar'])\n",
    "            if distance < closest['distance']:\n",
    "                closest.update({\n",
    "                    'date': approach['close_approach_date'],\n",
    "                    'distance': distance\n",
    "                })\n",
    "        return closest"
   ]
  },
  {
   "cell_type": "code",
   "execution_count": 17,
   "metadata": {},
   "outputs": [
    {
     "name": "stdout",
     "output_type": "stream",
     "text": [
      "Name: 99942 Apophis (2004 MN4)\n",
      "Diameter: 682m\n"
     ]
    }
   ],
   "source": [
    "apophis = Asteroid(2099942)\n",
    "\n",
    "print(f'Name: {apophis.name}')\n",
    "print(f'Diameter: {apophis.diameter}m')"
   ]
  },
  {
   "cell_type": "code",
   "execution_count": 18,
   "metadata": {},
   "outputs": [],
   "source": [
    "import json\n",
    "import unittest\n",
    "from unittest.mock import patch\n",
    "\n",
    "class TestAsteroid(unittest.TestCase):\n",
    "    def setUp(self):\n",
    "        self.asteroid = Asteroid(2099942)\n",
    "\n",
    "    def mocked_get_data(self):\n",
    "        with open('apophis_fixture.txt') as f:\n",
    "            return json.loads(f.read())\n",
    "\n",
    "    @patch('asteroid.Asteroid.get_data', mocked_get_data)\n",
    "    def test_name(self):\n",
    "        self.assertEqual(\n",
    "            self.asteroid.name, '99942 Apophis (2004 MN4)'\n",
    "        )\n",
    "\n",
    "    @patch('asteroid.Asteroid.get_data', mocked_get_data)\n",
    "    def test_diameter(self):\n",
    "        self.assertEqual(self.asteroid.diameter, 682)"
   ]
  },
  {
   "cell_type": "code",
   "execution_count": 19,
   "metadata": {},
   "outputs": [
    {
     "name": "stdout",
     "output_type": "stream",
     "text": [
      "Date: 2029-04-13\n",
      "Distance: 0.098 LD\n"
     ]
    }
   ],
   "source": [
    "print(f'Date: {apophis.closest_approach[\"date\"]}')\n",
    "print(f'Distance: {apophis.closest_approach[\"distance\"]:.2} LD')"
   ]
  },
  {
   "cell_type": "code",
   "execution_count": null,
   "metadata": {},
   "outputs": [],
   "source": []
  }
 ],
 "metadata": {
  "kernelspec": {
   "display_name": "Python 3",
   "language": "python",
   "name": "python3"
  },
  "language_info": {
   "codemirror_mode": {
    "name": "ipython",
    "version": 3
   },
   "file_extension": ".py",
   "mimetype": "text/x-python",
   "name": "python",
   "nbconvert_exporter": "python",
   "pygments_lexer": "ipython3",
   "version": "3.7.4"
  }
 },
 "nbformat": 4,
 "nbformat_minor": 4
}
