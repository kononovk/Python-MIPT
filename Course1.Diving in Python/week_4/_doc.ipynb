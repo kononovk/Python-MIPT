{
 "cells": [
  {
   "cell_type": "markdown",
   "metadata": {},
   "source": [
    "# Week Documentation\n",
    "- [pdb - the python debugger](https://docs.python.org/3/library/pdb.html)\n",
    "- [unittest](https://docs.python.org/3/library/unittest.html)\n",
    "- [unittest.mock](https://docs.python.org/3/library/unittest.mock.html)\n",
    "- [unittest.mock examples](https://docs.python.org/3/library/unittest.mock-examples.html)"
   ]
  }
 ],
 "metadata": {
  "kernelspec": {
   "display_name": "Python 3",
   "language": "python",
   "name": "python3"
  },
  "language_info": {
   "codemirror_mode": {
    "name": "ipython",
    "version": 3
   },
   "file_extension": ".py",
   "mimetype": "text/x-python",
   "name": "python",
   "nbconvert_exporter": "python",
   "pygments_lexer": "ipython3",
   "version": "3.7.4"
  }
 },
 "nbformat": 4,
 "nbformat_minor": 4
}
